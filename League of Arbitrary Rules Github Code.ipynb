{
 "cells": [
  {
   "cell_type": "code",
   "execution_count": null,
   "metadata": {},
   "outputs": [],
   "source": [
    "# The League of Arbitrary Rules Reddit Eliminator League 20/21\n",
    "# League Rules:\n",
    "# 1. finish GW with round number (10, 20, 30..)\n",
    "# 2. finish GW less than 10 points\n",
    "# 3. total points tally of 1000, 2000, 3000\n",
    "# 4. if total eliminated is more than 12%, then no eliminations that week\n",
    "# 5. eliminator phase stops at GW34\n",
    "# Link to google sheet:  https://docs.google.com/spreadsheets/d/1Af20eCuLPr6TktC-ISJSiMUpGnNcytpLCzf7AEoz5iw/edit?usp=sharing"
   ]
  },
  {
   "cell_type": "code",
   "execution_count": null,
   "metadata": {},
   "outputs": [],
   "source": [
    "########################################################################################################\n",
    "#STEP 1: Creates a list of the URLs for the league\n",
    "#Good\n",
    "#Gathers teamID(entry)teamName(entry_name) manager first and last name and time they joined the league\n",
    "#import important tools\n",
    "import requests\n",
    "import pandas as pd\n",
    "import numpy as np\n",
    "\n",
    "#define the Urls from which you will pull the data. The range for i is based on the number of pages the league takes up\n",
    "#50 teams per page for the 2020/2021 season and 10 pages of participants \n",
    "leagueUrls=[]\n",
    "leagueCode=269830\n",
    "for i in range(1,16):\n",
    "    fullUrl  = 'https://fantasy.premierleague.com/api/leagues-classic/'+str(leagueCode)+'/standings/?page_new_entries=&page_standings='+ str(i)\n",
    "    leagueUrls.append(fullUrl)\n",
    "\n",
    "#in case login is required but I did not fill this out apparently\n",
    "session = requests.session()\n",
    "url = 'https://users.premierleague.com/accounts/login/'\n",
    "payload = {\n",
    " 'password': 'YOUREMAILMAYBE',\n",
    " 'login': 'YOURPASSWORDMAYBE_COULDBEREVERSED',\n",
    " 'redirect_uri': 'https://fantasy.premierleague.com/a/login',\n",
    " 'app': 'plfpl-web'\n",
    "}\n",
    "session.post(url, data=payload)\n",
    "print(leagueUrls)"
   ]
  },
  {
   "cell_type": "code",
   "execution_count": null,
   "metadata": {},
   "outputs": [],
   "source": [
    "########################################################################################################\n",
    "#STEP 2: Grab player info and create a list of lists with this information\n",
    "#time to grab the variables for the league teams\n",
    "lInfo=[]\n",
    "leagueInfo=[]\n",
    "for leagueUrl in leagueUrls:\n",
    "    r = requests.get(leagueUrl)\n",
    "    json = r.json()\n",
    "    Test=(json['standings'])\n",
    "    team=Test['results']\n",
    "    for item in team:\n",
    "        teamID=item['entry']\n",
    "        teamName=item['entry_name']\n",
    "        mgrName=item['player_name']\n",
    "        linfo=[teamID,teamName,mgrName]\n",
    "        lInfo.append(linfo)\n",
    "    #print(teamInfo)\n",
    "    #create dataframe and append together for each Url\n",
    "    leagueInfo.append(pd.DataFrame(team)) \n",
    "#concatenate the DFs together\n",
    "result=pd.concat(leagueInfo)\n",
    "#export to excel- Only run for the first GW to get list of GW people\n",
    "#result.to_excel(r'C:\\OUTFILELOCATION', index = False, sheet_name=\"SEASON BEGINNING\")"
   ]
  },
  {
   "cell_type": "code",
   "execution_count": null,
   "metadata": {},
   "outputs": [],
   "source": [
    "########################################################################################################\n",
    "#Step 3: Preview list of lists to confirm its structure\n",
    "print(lInfo)"
   ]
  },
  {
   "cell_type": "code",
   "execution_count": null,
   "metadata": {},
   "outputs": [],
   "source": [
    "########################################################################################################\n",
    "#Step 4: Create GW URLs to scrape player data from\n",
    "#AFTER SEASON STARTS\n",
    "#next, grab the score for each team in the league for each gameweek\n",
    "#first, must create links for all of the players in the league and append to end of list\n",
    "\n",
    "################\n",
    "##Edit GW HERE##\n",
    "################\n",
    "gameweek=2\n",
    "for r in lInfo:\n",
    "    twUrl='https://fantasy.premierleague.com/api/entry/'+str(leagueCode)+'/event/'+str(gameweek)+'/picks/#/'\n",
    "    r.append(twUrl)"
   ]
  },
  {
   "cell_type": "code",
   "execution_count": null,
   "metadata": {},
   "outputs": [],
   "source": [
    "########################################################################################################\n",
    "#Step 5: Gather gw score and total score. hits are counted in this league\n",
    "#lInfo should be structured as a list of lists. the inner lists should have 4 elements: teamid,teamname,managername,url\n",
    "#because this is a list of lists and not a dictionary, the elements will be unnamed but that is what each element actually is\n",
    "#now that I have all the links created, need to gather the gw scores and overall score totals\n",
    "for lInfos in lInfo:\n",
    "    gwteamUrl= lInfos[3]\n",
    "    r = requests.get(gwteamUrl)\n",
    "    json1 = r.json()\n",
    "    json1.keys()\n",
    "    gwscoreinfo=(json1['entry_history'])\n",
    "    gwscore1=gwscoreinfo['points']\n",
    "    totalscore=gwscoreinfo['total_points']\n",
    "    hits=gwscoreinfo['event_transfers_cost']\n",
    "    gwscore=gwscore1-hits\n",
    "    #note, if you want to exclude hits from the gwscore, replace the line of code below with 'lInfos.append(gwscore1)'\n",
    "    lInfos.append(gwscore)\n",
    "    lInfos.append(totalscore)"
   ]
  },
  {
   "cell_type": "code",
   "execution_count": null,
   "metadata": {},
   "outputs": [],
   "source": [
    "########################################################################################################\n",
    "#Step 6: Export GW results to excel and create new sheet for this GW specifically. Make sure gameweek variable is updated above!\n",
    "gwrs=pd.DataFrame(lInfo)\n",
    "with pd.ExcelWriter(r'C:\\PATH\\Arbitrary.xlsx', engine='openpyxl', mode='a') as writer: \n",
    "     gwrs.to_excel(writer, sheet_name=str(gameweek), index=False, header=False) "
   ]
  },
  {
   "cell_type": "code",
   "execution_count": null,
   "metadata": {},
   "outputs": [],
   "source": [
    "########################################################################################################\n",
    "#Step 7: time to determine who is eliminated\n",
    "import math\n",
    "#calculate threshold for elimination of 12 percent\n",
    "thresh= .12*len(lInfo)\n",
    "#create list of possibly eliminated managers that conforms to managername and team name in parentheses\n",
    "#because that is the format required for automated manager elimination Steps 8-12 \n",
    "#list considers rules of GW score <10, divisible by 10, or total score divisible by 1000\n",
    "s = [ str(mgrName_)+\" (\"+str(teamName_)+\")\" for (teamID_, teamName_, mgrName_, URL_, gwscore_, totscore_) in lInfo if int(gwscore_) < 10 or int(gwscore_)%10==0 or int(totscore_)%1000==0 ]\n",
    "#number of managers in league this week\n",
    "print(len(lInfo))\n",
    "#number of tentatively eliminated managers\n",
    "print(s)\n",
    "#if tentatively eliminate number of managers less than safety threshold, output that managers are eliminated\n",
    "print('Thresh: '+str(thresh)+';Tentatively eliminated: '+str(len(s)))\n",
    "if len(s)<=thresh:\n",
    "    print('eliminations this week')\n",
    "else:\n",
    "    print('No eliminations this week')"
   ]
  },
  {
   "cell_type": "code",
   "execution_count": null,
   "metadata": {},
   "outputs": [],
   "source": [
    "########################################################################################################\n",
    "#automated removal of FPL managers eliminated from league (list 's' from Step 7 contains these managers in the proper format)\n",
    "#if output from Step 7 states eliminations this week, then proceed with the remaining code. If not, then your work is finished this GW\n",
    "\n",
    "#Step 8: Removing players from league using selenium\n",
    "# Selenium import\n",
    "pip install selenium\n",
    "from selenium import webdriver\n",
    "from selenium.webdriver.support.ui import WebDriverWait\n",
    "from selenium.webdriver.support.ui import Select\n",
    "from selenium.webdriver.common.keys import Keys\n",
    "from selenium.webdriver.common.by import By\n",
    "import time"
   ]
  },
  {
   "cell_type": "code",
   "execution_count": null,
   "metadata": {},
   "outputs": [],
   "source": [
    "########################################################################################################\n",
    "#Step 9: open Selenium controlled web browser and inject javascript\n",
    "driver= webdriver.Chrome(r'C:\\PATH\\chromedriver.exe')\n",
    "def goUrl(url):\n",
    "    #navigate to url\n",
    "    driver.get(url) \n",
    "    # load jquery \n",
    "    with open(r'C:\\PATH\\jquery-3.2.1.js', 'r') as jquery_js:         \n",
    "        # read and parse jquery lib\n",
    "        driver.execute_script( jquery_js.read() ) \n",
    "    return# helper function that navigates to a page, and then reads jquery from disk"
   ]
  },
  {
   "cell_type": "code",
   "execution_count": null,
   "metadata": {},
   "outputs": [],
   "source": [
    "########################################################################################################\n",
    "#Step 10: Navigate to fantasy page requiring login\n",
    "#use goUrl function to navigate to url and inject jquery\n",
    "goUrl('https://fantasy.premierleague.com/leagues/'+str(r[0])+'/admin/c')\n"
   ]
  },
  {
   "cell_type": "code",
   "execution_count": null,
   "metadata": {},
   "outputs": [],
   "source": [
    "########################################################################################################\n",
    "#Step 11: have selenium log you into the FPL site\n",
    "driver.implicitly_wait(1)\n",
    "# Find the HTML element for username, and fill in your name\n",
    "myName = 'EMAIL'\n",
    "myPassword = 'PASSWORD'\n",
    "# fill out username and password using Selenium\n",
    "#use the ID field. Notes for future self: inspect page, then find the specific field. Right click and copy JS, it gave the loginUsername/Password \n",
    "driver.execute_script(\"$('#loginUsername').val('\" + myName + \"')\")\n",
    "driver.execute_script(\"$('#loginPassword').val('\" + myPassword + \"')\")\n",
    "\n",
    "# click submit button- Notes for future self: I determined the path via inspect the button and copy xpath value\n",
    "driver.find_element_by_xpath('//*[@id=\"root\"]/div[2]/div/div/div[1]/form/div[3]/button').click()"
   ]
  },
  {
   "cell_type": "code",
   "execution_count": null,
   "metadata": {},
   "outputs": [],
   "source": [
    "########################################################################################################\n",
    "#Step 12: remove eliminated managers\n",
    "#go through list of losers in s and manually remove them from the league\n",
    "for loser in s:\n",
    "    # use goUrl function to navigate to url and inject jquery into the admin page\n",
    "    goUrl('https://fantasy.premierleague.com/leagues/'+str(leagueCode)+'/admin/c')\n",
    "    time.sleep(2)\n",
    "    #send first name\n",
    "    driver.find_element_by_xpath('//*[@id=\"downshift-0-label\"]').send_keys(loser)\n",
    "    #send space bar to get FPL site to create dropdown box\n",
    "    driver.find_element_by_xpath('//*[@id=\"downshift-0-label\"]').send_keys(Keys.SPACE)\n",
    "    #wait until drop down appears\n",
    "    time.sleep(2)\n",
    "    text=[]\n",
    "    i=0\n",
    "    #maybe try grabbing a list of all the drop down options text and clicking if text matches loser\n",
    "    #true statement would be loser != text <---does not work\n",
    "    while str(loser) != str(text):\n",
    "        for i in range(0,30):\n",
    "            xpathy='//*[@id=\"downshift-0-item-'+ str(i)+'\"]'\n",
    "            try:\n",
    "                text = driver.find_element_by_xpath(xpathy).text\n",
    "                if str(text)==str(loser):\n",
    "                    driver.find_element_by_xpath(xpathy).click()\n",
    "                    time.sleep(1)\n",
    "                    driver.find_element_by_xpath('//*[@id=\"root\"]/div[2]/div/div/div/form[2]/div[2]/button').click()\n",
    "                    print(loser)\n",
    "                    break\n",
    "            except:\n",
    "                print(loser + ' failed to remove')\n",
    "                i=i+1\n",
    "                break\n",
    "        #if fails through 10 iterations, then hopefully it breaks the code and prevents loop\n",
    "        if i>10:\n",
    "            print(loser + ' failed to remove')\n",
    "            break      "
   ]
  }
 ],
 "metadata": {
  "kernelspec": {
   "display_name": "Python 3",
   "language": "python",
   "name": "python3"
  },
  "language_info": {
   "codemirror_mode": {
    "name": "ipython",
    "version": 3
   },
   "file_extension": ".py",
   "mimetype": "text/x-python",
   "name": "python",
   "nbconvert_exporter": "python",
   "pygments_lexer": "ipython3",
   "version": "3.7.4"
  }
 },
 "nbformat": 4,
 "nbformat_minor": 2
}
